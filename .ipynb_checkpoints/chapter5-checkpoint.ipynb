{
 "cells": [
  {
   "cell_type": "code",
   "execution_count": 2,
   "metadata": {},
   "outputs": [],
   "source": [
    "import pandas as pd\n",
    "import numpy as np"
   ]
  },
  {
   "cell_type": "code",
   "execution_count": 3,
   "metadata": {},
   "outputs": [],
   "source": [
    "data = pd.read_csv(\"table_chapter5.csv\")"
   ]
  },
  {
   "cell_type": "code",
   "execution_count": 31,
   "metadata": {},
   "outputs": [],
   "source": [
    "class1 = data[[\"x1w1\",\"x2w1\"]].values\n",
    "class2 = data[[\"x1w3\",\"x2w3\"]].values"
   ]
  },
  {
   "cell_type": "code",
   "execution_count": 19,
   "metadata": {},
   "outputs": [],
   "source": [
    "def perceptron_criterion(a,m):\n",
    "    suma=0\n",
    "    for y in m:\n",
    "        suma += np.dot(a,y)\n",
    "    return suma"
   ]
  },
  {
   "cell_type": "code",
   "execution_count": 86,
   "metadata": {},
   "outputs": [],
   "source": [
    "def misclassified(a,class1,class2):\n",
    "    missed1 = []\n",
    "    missed2 = []\n",
    "    missed = []\n",
    "    for obs in class1:\n",
    "        if np.dot(a,obs)<0:\n",
    "            missed1.append(obs)\n",
    "            missed.append(obs)\n",
    "    for obs in class2:\n",
    "        if np.dot(a,obs)>0:\n",
    "            missed2.append(obs)\n",
    "            missed.append(obs)\n",
    "    return missed,missed1,missed2"
   ]
  },
  {
   "cell_type": "code",
   "execution_count": 92,
   "metadata": {},
   "outputs": [],
   "source": [
    "def gradient_perceptron(m):\n",
    "    return np.sum(m,axis=0)"
   ]
  },
  {
   "cell_type": "code",
   "execution_count": 93,
   "metadata": {},
   "outputs": [],
   "source": [
    "def gradient_descent(a0,theta,eta,maxit):\n",
    "    '''Consider eta is fixed'''\n",
    "    iteration = 0\n",
    "    a = a0\n",
    "    missed = misclassified(a,class1,class2)[0]\n",
    "    gradient = gradient_perceptron(missed)\n",
    "    print(np.linalg.norm(eta*gradient))\n",
    "    while np.linalg.norm(eta*gradient)>theta and iteration<maxit:\n",
    "        a = a+eta*gradient\n",
    "        missed = misclassified(a,class1,class2)[0]\n",
    "        gradient = gradient_perceptron(missed)\n",
    "        iteration+=1\n",
    "        #print(iteration)\n",
    "    print(iteration)\n",
    "    print(np.linalg.norm(eta*gradient))\n",
    "    return a"
   ]
  },
  {
   "cell_type": "code",
   "execution_count": 96,
   "metadata": {},
   "outputs": [
    {
     "name": "stdout",
     "output_type": "stream",
     "text": [
      "0.25880494585691366\n",
      "10000\n",
      "0.36943741012517933\n"
     ]
    },
    {
     "data": {
      "text/plain": [
       "array([-1695.985,  3282.552])"
      ]
     },
     "execution_count": 96,
     "metadata": {},
     "output_type": "execute_result"
    }
   ],
   "source": [
    "a0 = np.array([1,1])\n",
    "gradient_descent(a0,theta=0.005,eta=0.01,maxit=10000)"
   ]
  }
 ],
 "metadata": {
  "kernelspec": {
   "display_name": "Python 3",
   "language": "python",
   "name": "python3"
  },
  "language_info": {
   "codemirror_mode": {
    "name": "ipython",
    "version": 3
   },
   "file_extension": ".py",
   "mimetype": "text/x-python",
   "name": "python",
   "nbconvert_exporter": "python",
   "pygments_lexer": "ipython3",
   "version": "3.7.6"
  }
 },
 "nbformat": 4,
 "nbformat_minor": 4
}
