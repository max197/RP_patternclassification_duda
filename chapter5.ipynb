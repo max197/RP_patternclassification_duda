{
 "cells": [
  {
   "cell_type": "code",
   "execution_count": 111,
   "metadata": {},
   "outputs": [],
   "source": [
    "import pandas as pd\n",
    "import numpy as np\n",
    "import matplotlib.pyplot as plt"
   ]
  },
  {
   "cell_type": "code",
   "execution_count": 3,
   "metadata": {},
   "outputs": [],
   "source": [
    "data = pd.read_csv(\"table_chapter5.csv\")"
   ]
  },
  {
   "cell_type": "code",
   "execution_count": 31,
   "metadata": {},
   "outputs": [],
   "source": [
    "class1 = data[[\"x1w1\",\"x2w1\"]].values\n",
    "class2 = data[[\"x1w3\",\"x2w3\"]].values"
   ]
  },
  {
   "cell_type": "code",
   "execution_count": 146,
   "metadata": {},
   "outputs": [],
   "source": [
    "norms1 = np.linalg.norm(class1, axis=1, keepdims=True)\n",
    "class1_norm = class1/norms1\n",
    "\n",
    "norms2 = np.linalg.norm(class2, axis=1, keepdims=True)\n",
    "class2_norm = class2/norms2"
   ]
  },
  {
   "cell_type": "code",
   "execution_count": 19,
   "metadata": {},
   "outputs": [],
   "source": [
    "def perceptron_criterion(a,m):\n",
    "    suma=0\n",
    "    for y in m:\n",
    "        suma += np.dot(a,y)\n",
    "    return suma"
   ]
  },
  {
   "cell_type": "code",
   "execution_count": 97,
   "metadata": {},
   "outputs": [],
   "source": [
    "def misclassified(a,class1,class2):\n",
    "    missed1 = []\n",
    "    missed2 = []\n",
    "    missed = []\n",
    "    for obs in class1:\n",
    "        if np.dot(a,obs)<0:\n",
    "            missed1.append(obs)\n",
    "            missed.append(obs)\n",
    "    for obs in class2:\n",
    "        if np.dot(a,obs)<0:\n",
    "            missed2.append(obs)\n",
    "            missed.append(obs)\n",
    "    return missed,missed1,missed2"
   ]
  },
  {
   "cell_type": "code",
   "execution_count": 98,
   "metadata": {},
   "outputs": [],
   "source": [
    "def gradient_perceptron(m):\n",
    "    return np.sum(m,axis=0)"
   ]
  },
  {
   "cell_type": "code",
   "execution_count": 155,
   "metadata": {},
   "outputs": [],
   "source": [
    "def gradient_descent(a0,theta,eta,maxit):\n",
    "    '''Consider eta is fixed'''\n",
    "    iteration = 0\n",
    "    a = a0\n",
    "    missed = misclassified(a,class1,class2)[0]\n",
    "    gradient = gradient_perceptron(missed)\n",
    "    print(np.linalg.norm(eta*gradient))\n",
    "    while np.linalg.norm(eta*gradient)>theta and iteration<maxit:\n",
    "        a = a+eta*gradient\n",
    "        missed = misclassified(a,class1,class2)[0]\n",
    "        gradient = gradient_perceptron(missed)\n",
    "        iteration+=1\n",
    "        #print(iteration)\n",
    "    print(iteration)\n",
    "    print(np.linalg.norm(eta*gradient))\n",
    "    return a"
   ]
  },
  {
   "cell_type": "code",
   "execution_count": 166,
   "metadata": {},
   "outputs": [
    {
     "name": "stdout",
     "output_type": "stream",
     "text": [
      "0.20529490982486637\n",
      "100000\n",
      "0.14094325099131208\n"
     ]
    }
   ],
   "source": [
    "a0 = np.array([1,1])\n",
    "a_solution = gradient_descent(a0,theta=0.005,eta=0.01,maxit=100000)"
   ]
  },
  {
   "cell_type": "code",
   "execution_count": 167,
   "metadata": {},
   "outputs": [
    {
     "data": {
      "text/plain": [
       "array([0.184, 0.373])"
      ]
     },
     "execution_count": 167,
     "metadata": {},
     "output_type": "execute_result"
    }
   ],
   "source": [
    "a_solution"
   ]
  },
  {
   "cell_type": "code",
   "execution_count": 168,
   "metadata": {},
   "outputs": [
    {
     "data": {
      "text/plain": [
       "[<matplotlib.lines.Line2D at 0x13528312a08>]"
      ]
     },
     "execution_count": 168,
     "metadata": {},
     "output_type": "execute_result"
    },
    {
     "data": {
      "image/png": "[encoded data removed]",
      "text/plain": [
       "<Figure size 720x360 with 1 Axes>"
      ]
     },
     "metadata": {
      "needs_background": "light"
     },
     "output_type": "display_data"
    }
   ],
   "source": [
    "fig,ax = plt.subplots(figsize=(10,5))\n",
    "ax.scatter(class1[:,0],class1[:,1],color=\"r\")\n",
    "ax.scatter(class2[:,0],class2[:,1],color=\"b\")\n",
    "x = np.linspace(-7,8)\n",
    "y = lambda x: (a_solution[1]/a_solution[0])*(x-a_solution[0])+a_solution[1]\n",
    "ax.plot(x,y(x))\n",
    "#plt.plot(*zip(point1, point2), marker='o')"
   ]
  },
  {
   "cell_type": "code",
   "execution_count": 139,
   "metadata": {},
   "outputs": [],
   "source": []
  }
 ],
 "metadata": {
  "kernelspec": {
   "display_name": "Python 3",
   "language": "python",
   "name": "python3"
  },
  "language_info": {
   "codemirror_mode": {
    "name": "ipython",
    "version": 3
   },
   "file_extension": ".py",
   "mimetype": "text/x-python",
   "name": "python",
   "nbconvert_exporter": "python",
   "pygments_lexer": "ipython3",
   "version": "3.7.6"
  }
 },
 "nbformat": 4,
 "nbformat_minor": 4
}
